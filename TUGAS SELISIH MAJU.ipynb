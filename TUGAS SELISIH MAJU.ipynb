{
 "cells": [
  {
   "cell_type": "code",
   "execution_count": 1,
   "metadata": {},
   "outputs": [],
   "source": [
    "from tabulate import tabulate\n",
    "from math import *"
   ]
  },
  {
   "cell_type": "code",
   "execution_count": 2,
   "metadata": {},
   "outputs": [],
   "source": [
    "def f(x, p):\n",
    "    return (eval(p))"
   ]
  },
  {
   "cell_type": "code",
   "execution_count": 3,
   "metadata": {},
   "outputs": [],
   "source": [
    "def ubah_pangkat(fungsi):\n",
    "    if (fungsi.find(\"^\")):\n",
    "        return fungsi.replace(\"^\", \"**\")"
   ]
  },
  {
   "cell_type": "code",
   "execution_count": 4,
   "metadata": {},
   "outputs": [],
   "source": [
    "def tampilkan(body, head):\n",
    "    print(tabulate(body, headers=head, floatfmt=\".5f\"))"
   ]
  },
  {
   "cell_type": "code",
   "execution_count": 27,
   "metadata": {},
   "outputs": [],
   "source": [
    "def method(fungsi):\n",
    "    #x = sp.Symbol('x')\n",
    "    print()\n",
    "    print('Diferensiasi Selisih maju\\n\\n')\n",
    "    print('Persamaan yang telah di inputkan :', fungsi)\n",
    "    fungsi = ubah_pangkat(fungsi)\n",
    "    print()\n",
    "    hasil = []\n",
    "    n = 1\n",
    "    \n",
    "    a = float(input('Masukkan batas bawah : '))\n",
    "    b = float(input('Masukkan batas atas : '))\n",
    "    h = float(input('Masukkan h : '))\n",
    "    print()\n",
    "    \n",
    "    while True:\n",
    "        fa = f(a, fungsi)\n",
    "        fb = f(b, fungsi)\n",
    "        \n",
    "        c = a + h\n",
    "        fc = f(c, fungsi)\n",
    "        fmaju = (fc-fa)/h\n",
    "        \n",
    "        d = a + 2*h\n",
    "        fd = f(d, fungsi)\n",
    "        error = abs(-(fd-(2*fc)+fa)/2*h*100)\n",
    "        \n",
    "        hasil.append([n, a, fa, fc, fd, fmaju, error])\n",
    "        a = c\n",
    "        \n",
    "        if (a > b):\n",
    "            tampilkan(hasil, ['n', 'x', 'fx', 'f(x+h)', 'f(x+2h)', \"f'(x) maju\", 'error'])\n",
    "            break;\n",
    "            \n",
    "        n += 1    \n",
    "        \n",
    "    "
   ]
  },
  {
   "cell_type": "code",
   "execution_count": 28,
   "metadata": {},
   "outputs": [
    {
     "name": "stdout",
     "output_type": "stream",
     "text": [
      "Masukkan persamaan : x^3-2*x^2-x\n"
     ]
    }
   ],
   "source": [
    "fungsi = input('Masukkan persamaan : ')"
   ]
  },
  {
   "cell_type": "code",
   "execution_count": 29,
   "metadata": {},
   "outputs": [
    {
     "name": "stdout",
     "output_type": "stream",
     "text": [
      "\n",
      "Diferensiasi Selisih maju\n",
      "\n",
      "\n",
      "Persamaan yang telah di inputkan : x^3-2*x^2-x\n",
      "\n",
      "Masukkan batas bawah : 0\n",
      "Masukkan batas atas : 2\n",
      "Masukkan h : 0.2\n",
      "\n",
      "  n        x        fx    f(x+h)    f(x+2h)    f'(x) maju    error\n",
      "---  -------  --------  --------  ---------  ------------  -------\n",
      "  1  0.00000   0.00000  -0.27200   -0.65600      -1.36000  1.12000\n",
      "  2  0.20000  -0.27200  -0.65600   -1.10400      -1.92000  0.64000\n",
      "  3  0.40000  -0.65600  -1.10400   -1.56800      -2.24000  0.16000\n",
      "  4  0.60000  -1.10400  -1.56800   -2.00000      -2.32000  0.32000\n",
      "  5  0.80000  -1.56800  -2.00000   -2.35200      -2.16000  0.80000\n",
      "  6  1.00000  -2.00000  -2.35200   -2.57600      -1.76000  1.28000\n",
      "  7  1.20000  -2.35200  -2.57600   -2.62400      -1.12000  1.76000\n",
      "  8  1.40000  -2.57600  -2.62400   -2.44800      -0.24000  2.24000\n",
      "  9  1.60000  -2.62400  -2.44800   -2.00000       0.88000  2.72000\n",
      " 10  1.80000  -2.44800  -2.00000   -1.23200       2.24000  3.20000\n",
      " 11  2.00000  -2.00000  -1.23200   -0.09600       3.84000  3.68000\n"
     ]
    }
   ],
   "source": [
    "method(fungsi)"
   ]
  },
  {
   "cell_type": "code",
   "execution_count": null,
   "metadata": {},
   "outputs": [],
   "source": []
  }
 ],
 "metadata": {
  "kernelspec": {
   "display_name": "Python 3",
   "language": "python",
   "name": "python3"
  },
  "language_info": {
   "codemirror_mode": {
    "name": "ipython",
    "version": 3
   },
   "file_extension": ".py",
   "mimetype": "text/x-python",
   "name": "python",
   "nbconvert_exporter": "python",
   "pygments_lexer": "ipython3",
   "version": "3.8.3"
  }
 },
 "nbformat": 4,
 "nbformat_minor": 4
}
